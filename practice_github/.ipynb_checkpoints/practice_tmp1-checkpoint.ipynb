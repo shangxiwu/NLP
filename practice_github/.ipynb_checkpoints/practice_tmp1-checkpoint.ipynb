{
 "cells": [
  {
   "cell_type": "markdown",
   "metadata": {},
   "source": [
    "# Grab the feedback on PTT movie review page and save each feadback in 'movie_message.txt'"
   ]
  },
  {
   "cell_type": "code",
   "execution_count": 28,
   "metadata": {},
   "outputs": [
    {
     "name": "stdout",
     "output_type": "stream",
     "text": [
      "都不用爭執 10分鐘後我在這帖一次爆光光\n",
      "之前有參加過某群  line群那種形式要防雷根本是笑話\n",
      "這麼久的小說沒甚麼好雷吧 難道我說羅密歐 茱麗葉都會\n",
      "死也算雷嗎\n",
      "羅密歐死了 茱麗葉裝上機械鎧\n",
      "記得超過十年的作品就不算暴雷了\n",
      "其實兇手是一個老法官 他利用職務之便把一群有罪但無\n",
      "證據釋放的人聚集到東方快車上 然後再一一殺害 end\n",
      "十分鐘還沒過啊\n",
      "樓上可以桶了吧\n",
      "*樓上上\n",
      "可是上面說的不是這個故事的真兇啊www\n",
      "看小說很享受 謎團藏在文字跟電影感受絕對不一樣\n",
      "真兇是一個富士山被新大樓擋住害他畫不了而發飆的老頭\n",
      "兇手不是柯南\n",
      "幹yang是在說一個都不剩的劇情吧\n",
      "有些人連你說哪個角色是誰演的他都要氣你雷他\n",
      "*一個都不留\n",
      "笑了 上面那一位說的是無人生還好嗎\n",
      "偵探本人就是兇手無誤  灰色腦細胞不是蓋的\n",
      "兇手是一個魔術師  繼承他媽媽的優秀才華\n",
      "抱歉我記錯了QQ 其實是一個用橡皮艇來往陸地跟島嶼製\n",
      "造不在場證明的人\n",
      "難怪和我印象中的東方快車不大一樣...\n",
      "那就不要加入line群組啊\n",
      "根本沒看過\n",
      "凶手就是戴眼鏡打領結的小學生\n",
      "兇手是鎧之巨人\n",
      "兇手是華生!!!!!!\n",
      "好歹也說海斯汀\n",
      "兇手就是房東\n",
      "可能不用反應這麼大,一些國外youtubers都期待結局有改編\n",
      "兇手是石岡吧 既然是東方列車兇手當然安排東方人\n",
      "其實兇手是郭泰源\n",
      "改編...白羅最後領便當這樣嗎XD\n",
      "華生就是你\n",
      "YouTube r 有解說過\n",
      "老人都知道 東方快車主謀就是姚可傑\n",
      "全車都是共犯吧\n",
      "唐伯虎點秋香    秋香最後結婚了\n",
      "樓上...你...\n",
      "*樓樓上\n",
      "沒看過的人永遠都比較多。沒有大家都知道…就不要講就好\n",
      "了\n",
      "其實明知這是懸疑片又不想被雷 就不該去看討論\n",
      "結局改編的話，那就等著被罵翻，蠢斃…結局才是精華\n",
      "我還期待推文出現火車道德難題xd\n",
      "東方快車謀殺案的兇手是……   無人生還的兇手是……\n",
      "羅傑艾洛克命案的兇手是……\n",
      "就有些白痴愛亂看又怕雷  北爛\n",
      "白羅最後一案的兇手就是白羅……\n",
      "是朱自清老爸啦 「我殺幾個人去，你就在此地，不要走動」\n",
      "我記得好像是開膛去。手傑克混進東方方列車殺戮 結果\n",
      "被白羅揪出來後才發現他是女人\n",
      "*開膛手傑克\n",
      "兇手是火車啦，信我\n",
      "不要參加有爆雷恐懼症的群組就好。\n",
      "都說是東方了，兇手當然是東洋那個阿克曼家族\n",
      "大家都死了活著的就是兇手\n",
      "加群組還怕被雷就是個笑話\n",
      "兇手是房東\n",
      "上次我跟女友說赤壁之戰曹操輸定了 然後就被打一巴掌\n",
      "這部的結局也很難改掉吧??經典就經典在結局啊\n",
      "吾人生還=一個都不留 譯名問題\n",
      "無人  打錯字\n",
      "東方快車不是就是郭泰源教練嗎？\n",
      "兇手就是花崗母女，石神只是幫兇\n",
      "那個明明是石神好爆\n",
      "啊sor 我看成石岡\n",
      "嫌疑犯X亂入\n",
      "兇手是東方快車\n",
      "主角有雙重人格\n",
      "兇手是東方仗助\n",
      "小說好久前我讀過，兇手是火車（選我正解\n",
      "都不知道多久以前的故事翻拍還在抱怨暴雷…\n",
      "很多人不知道~其實灰色腦細胞是打入T virus所造成的\n",
      "是東郊皇陵\n",
      "這書真的太有名  就跟你說天狼星其實是好人差不多\n",
      "想想，艾勒里昆恩的偵探小說反而未見電影翻拍\n",
      "范達因的好像也沒啊XD\n",
      "話說阿嘉莎的畸屋拍電影了 順便可以看昆恩Y的悲劇(毆飛)\n",
      "最近西默農的梅格雷探長系列倒是拍了電視劇 豆豆先生演!\n",
      "狄克森卡爾表示...\n",
      "偵探迷不少害我還擔心講了名字沒人聽過\n",
      "這部真的經典，當時看到兇手真相超錯愕\n",
      "火車難題跟朱自清我笑死XDDDDD\n",
      "兇手是影片中桌上的水杯啦 前面是在騙幾點的\n",
      "布魯斯威利是鬼\n",
      "火車嘛，兇手當然是卡巴內利\n",
      "全家 不意外\n"
     ]
    }
   ],
   "source": [
    "import requests\n",
    "from bs4 import BeautifulSoup\n",
    "\n",
    "url = 'https://www.ptt.cc/bbs/movie/M.1496375334.A.C6B.html'\n",
    "\n",
    "response = requests.get(url)\n",
    "\n",
    "soup = BeautifulSoup(response.text, 'html.parser')\n",
    "\n",
    "articles = soup.find_all('div', 'push')\n",
    "with open('movie_message.txt','w') as f:\n",
    "    for article in articles:\n",
    "        messages = article.find('span','f3 push-content').getText().replace(':','').strip()\n",
    "        print(messages)\n",
    "        f.write(messages + \"\\n\")"
   ]
  },
  {
   "cell_type": "markdown",
   "metadata": {},
   "source": [
    "# Grab the news and encode each sentence as bag of word"
   ]
  },
  {
   "cell_type": "code",
   "execution_count": 30,
   "metadata": {},
   "outputs": [
    {
     "name": "stdout",
     "output_type": "stream",
     "text": [
      "勞動 部將 在 下周一 （ 3 日 ） 公布 勞動 基金 去 （ 2019 ） 年全 年度 收益 數及 收益率 。   本報 資料 照片 facebook\n"
     ]
    }
   ],
   "source": [
    "import jieba\n",
    "import requests\n",
    "from bs4 import BeautifulSoup\n",
    "\n",
    "\n",
    "url = 'https://money.udn.com/money/story/5648/4314891'\n",
    "\n",
    "response = requests.get(url)\n",
    "response.encoding = 'utf-8'\n",
    "\n",
    "soup = BeautifulSoup(response.text, 'html.parser')\n",
    "sentences = []\n",
    "p_tags = article_body.find_all(\"p\")\n",
    "for i in p_tags:\n",
    "    sentence = ' '.join(list(jieba.cut(i.text, cut_all=False)))\n",
    "    sentence = sentence.replace('\\r\\n','')\n",
    "    sentences.append(sentence)\n",
    "    \n",
    "print(sentences[0])\n",
    "    \n"
   ]
  },
  {
   "cell_type": "code",
   "execution_count": 34,
   "metadata": {},
   "outputs": [
    {
     "name": "stdout",
     "output_type": "stream",
     "text": [
      "Vocabulary size: 196\n",
      "Vocabulary content:\n",
      " {'勞動': 44, '部將': 181, '下周一': 17, '公布': 33, '基金': 66, '2019': 4, '年全': 82, '年度': 83, '收益': 100, '數及': 108, '收益率': 101, '本報': 124, '資料': 168, '照片': 132, 'facebook': 13, '了解': 22, '去年': 52, '全年': 30, '735': 11, '億元': 28, '12': 1, '進帳': 175, '608': 9, '將創': 71, '歷史': 127, '新高': 112, '外界': 67, '最關切': 117, '勞退': 48, '新制': 110, '截至': 85, '11': 0, '月底': 118, '獲利': 133, '312': 6, '96': 12, '因勞退': 61, '規模': 159, '龐大': 195, '逾半數': 176, '預估': 190, '新增': 111, '半來': 49, '自勞退': 150, '推估': 93, '600': 8, '以此': 26, '若以': 152, '一年': 14, '提繳': 95, '688': 10, '萬餘戶': 155, '有效': 121, '帳戶': 77, '計算': 160, '每個': 128, '平均': 81, '分配': 37, '萬元': 154, '所有': 87, '177': 3, '萬個': 153, '勞工': 46, '工分': 74, '紅創': 141, '紀錄': 140, '參與': 53, '有望': 122, '今年': 24, '拿到': 90, '大紅包': 68, '運用局': 178, '先前': 29, '表示': 157, '整體': 107, '而言': 149, '美中': 148, '貿易': 167, '戰首': 86, '階段': 185, '達成': 179, '協議': 51, '有助': 119, '穩定': 138, '全球': 31, '經貿': 145, '環境': 135, '加上': 41, '各國': 57, '央行': 69, '續行': 147, '政策': 104, '部分': 180, '國家': 63, '推出': 94, '擴張': 99, '財政': 164, '降低': 184, '經濟': 144, '衰退': 158, '風險': 194, '我國': 84, '受益': 54, '轉單': 171, '效應': 105, '台商': 56, '投資': 89, '回流': 60, '半導體': 50, '設備': 163, '擴增': 98, '效益': 106, '使得': 27, '基本面': 65, '金融': 182, '市場': 76, '表現': 156, '勞動部': 45, '昨日': 116, '雖釋': 187, '數達': 109, '利多': 38, '訊息': 162, '非常': 189, '亮麗': 23, '未進': 123, '一步': 16, '揭露': 96, '旗下': 113, '各項': 58, '預期': 191, '攸關': 103, '勞工個': 47, '退休金': 173, '雙雙會': 188, '創歷史': 40, '退休': 172, '採個': 92, '帳戶制': 78, '勞保局': 43, '每年': 129, '金額': 183, '損益數': 97, '專戶': 73, '繳納': 146, '日期': 114, '不同': 18, '其參': 34, '運用': 177, '獲得': 134, '貢獻度': 165, '隨之': 186, '有所': 120, '差異': 75, '之計算': 21, '以個': 25, '自當': 151, '日至': 115, '31': 5, '每日': 130, '結餘金額': 143, '累計數': 142, '全體': 32, '同期': 59, '權數': 126, '計算應': 161, '收益金': 102, '因此': 62, '並不': 20, '相同': 137, '簡單': 139, '地講': 64, '帳戶裡': 79, '本金': 125, '貢獻愈': 166, '分紅': 35, '分紅到': 36, '實際': 70, '不能': 19, '領回': 192, '將會': 72, '連本': 174, '帶利': 80, '滾入': 131, '直至': 136, '60': 7, '才能': 88, '動支個': 42, '資未滿': 169, '15': 2, '只能': 55, '一次': 15, '資滿': 170, '則可選擇': 39, '領或': 193, '按月領': 91}\n"
     ]
    }
   ],
   "source": [
    "from sklearn.feature_extraction.text import CountVectorizer\n",
    "\n",
    "vect = CountVectorizer()\n",
    "vect.fit(sentences)\n",
    "\n",
    "\n",
    "print(\"Vocabulary size: {}\".format(len(vect.vocabulary_)))\n",
    "print(\"Vocabulary content:\\n {}\".format(vect.vocabulary_))"
   ]
  },
  {
   "cell_type": "code",
   "execution_count": 35,
   "metadata": {},
   "outputs": [
    {
     "name": "stdout",
     "output_type": "stream",
     "text": [
      "Dense representation of bag_of_words:\n",
      "[[0 0 0 ... 0 0 0]\n",
      " [0 1 0 ... 0 0 0]\n",
      " [1 1 0 ... 0 0 1]\n",
      " ...\n",
      " [0 1 0 ... 0 0 0]\n",
      " [0 0 2 ... 1 0 0]\n",
      " [0 0 0 ... 0 0 0]]\n"
     ]
    }
   ],
   "source": [
    "bag_of_words = vect.transform(sentences)\n",
    "\n",
    "print(\"Dense representation of bag_of_words:\\n{}\".format(bag_of_words.toarray()))"
   ]
  },
  {
   "cell_type": "code",
   "execution_count": null,
   "metadata": {},
   "outputs": [],
   "source": []
  }
 ],
 "metadata": {
  "kernelspec": {
   "display_name": "Python 3",
   "language": "python",
   "name": "python3"
  },
  "language_info": {
   "codemirror_mode": {
    "name": "ipython",
    "version": 3
   },
   "file_extension": ".py",
   "mimetype": "text/x-python",
   "name": "python",
   "nbconvert_exporter": "python",
   "pygments_lexer": "ipython3",
   "version": "3.6.10"
  }
 },
 "nbformat": 4,
 "nbformat_minor": 2
}
