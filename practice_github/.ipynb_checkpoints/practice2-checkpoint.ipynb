{
 "cells": [
  {
   "cell_type": "markdown",
   "metadata": {},
   "source": [
    "# Please grab valid email address in the following link.  \n",
    "url: https://isaac60103.github.io/crawl_course/practice/email_list.html"
   ]
  },
  {
   "cell_type": "code",
   "execution_count": 114,
   "metadata": {},
   "outputs": [
    {
     "name": "stdout",
     "output_type": "stream",
     "text": [
      "['isaac60103@gmail.com', 'isaac60103@ntu.edu.com', 'isaac60103@ntu.com.tw', 'isaac60103@hotmail.edu.tw']\n"
     ]
    }
   ],
   "source": [
    "# -*- coding: utf-8 -*-\n",
    "import requests\n",
    "import re\n",
    "# write you code here\n",
    "response= requests.get('https://isaac60103.github.io/crawl_course/practice/email_list.html')\n",
    "response.encoding = 'utf-8'\n",
    "pattern = '\\w+@[\\w+.]+'\n",
    "print(re.findall(pattern,response.text))\n"
   ]
  },
  {
   "cell_type": "markdown",
   "metadata": {},
   "source": [
    "# Write a Python program to find all five characters long word in a string."
   ]
  },
  {
   "cell_type": "code",
   "execution_count": 95,
   "metadata": {},
   "outputs": [
    {
     "name": "stdout",
     "output_type": "stream",
     "text": [
      "['quick', 'brown', 'jumps']\n"
     ]
    }
   ],
   "source": [
    "import re\n",
    "text = 'The quick brown fox jumps over the lazy dog.'\n",
    "\n",
    "# write your code here\n",
    "\n",
    "match = re.findall(\"\\w{5}\", text)\n",
    "print(match)"
   ]
  },
  {
   "cell_type": "markdown",
   "metadata": {},
   "source": [
    "# Write a Python program to extract values between quotation marks of a string."
   ]
  },
  {
   "cell_type": "code",
   "execution_count": 36,
   "metadata": {},
   "outputs": [
    {
     "name": "stdout",
     "output_type": "stream",
     "text": [
      "['Python', 'PHP', 'Java', 'C++']\n"
     ]
    }
   ],
   "source": [
    "import re\n",
    "text1 = '\"Python\", \"PHP\", \"Java\", \"C++\"'\n",
    "# write your code here\n",
    "pattern = '\"(.*?)\"'\n",
    "match = re.findall(pattern, text1)\n",
    "print(match)"
   ]
  },
  {
   "cell_type": "markdown",
   "metadata": {},
   "source": [
    "# Write a Python program to remove multiple spaces in a string."
   ]
  },
  {
   "cell_type": "code",
   "execution_count": 50,
   "metadata": {},
   "outputs": [
    {
     "name": "stdout",
     "output_type": "stream",
     "text": [
      "Original string: Python      Exercises\n",
      "Without extra spaces: Python Exercises\n"
     ]
    }
   ],
   "source": [
    "import re\n",
    "text1 = 'Python      Exercises'\n",
    "print(\"Original string: {}\".format(text1))\n",
    "# write your code here\n",
    "\n",
    "print(\"Without extra spaces: {}\".format(re.sub(\" +\",\" \",text1)))"
   ]
  },
  {
   "cell_type": "markdown",
   "metadata": {},
   "source": [
    "# Write a Python program to remove all whitespaces from a string."
   ]
  },
  {
   "cell_type": "code",
   "execution_count": 53,
   "metadata": {},
   "outputs": [
    {
     "name": "stdout",
     "output_type": "stream",
     "text": [
      "Original string: Python      Exercises\n",
      "Without extra spaces: PythonExercises\n"
     ]
    }
   ],
   "source": [
    "import re\n",
    "text1 = 'Python      Exercises'\n",
    "print(\"Original string: {}\".format(text1))\n",
    "print(\"Without extra spaces: {}\".format(re.sub(r'\\s+','', text1)))"
   ]
  },
  {
   "cell_type": "code",
   "execution_count": 24,
   "metadata": {},
   "outputs": [
    {
     "name": "stdout",
     "output_type": "stream",
     "text": [
      "Original string:  Python    Exercises \n",
      "Without extra spaces: PythonExercises\n"
     ]
    }
   ],
   "source": [
    "import re\n",
    "text1 = ' Python    Exercises '\n",
    "print(\"Original string: {}\".format(text1))\n",
    "# write your code here"
   ]
  },
  {
   "cell_type": "markdown",
   "metadata": {},
   "source": [
    "# Write a Python program to remove everything except alphanumeric characters from a string."
   ]
  },
  {
   "cell_type": "code",
   "execution_count": 55,
   "metadata": {},
   "outputs": [
    {
     "name": "stdout",
     "output_type": "stream",
     "text": [
      "Without extra spaces: PythonExercises12\n"
     ]
    }
   ],
   "source": [
    "import re\n",
    "text1 = '**//Python Exercises// - 12. '\n",
    "# write your code here\n",
    "print(\"Without extra spaces: {}\".format(re.sub(r'[\\W]+','', text1)))"
   ]
  },
  {
   "cell_type": "markdown",
   "metadata": {},
   "source": [
    "# Write a Python program to find all words starting with 'a' or 'e' in a given string."
   ]
  },
  {
   "cell_type": "code",
   "execution_count": 101,
   "metadata": {},
   "outputs": [
    {
     "name": "stdout",
     "output_type": "stream",
     "text": [
      "['example', 'eates', 'an', 'ayList', 'apacity', 'elements', 'elements', 'are', 'en', 'added', 'ayList', 'and', 'ayList', 'ed', 'accordingly']\n"
     ]
    }
   ],
   "source": [
    "import re\n",
    "# Input.\n",
    "text = \"The following example creates an ArrayList with a capacity of 50 elements. Four elements are then added to the ArrayList and the ArrayList is trimmed accordingly.\"\n",
    "\n",
    "#find all the words starting with 'a' or 'e'\n",
    "# write your code here\n",
    "\n",
    "match = re.findall(\"[ae]\\w+\",text)\n",
    "\n",
    "\n",
    "print(match)\n"
   ]
  },
  {
   "cell_type": "markdown",
   "metadata": {},
   "source": [
    "# Write a Python program to find a string that a number is at the end of the string."
   ]
  },
  {
   "cell_type": "code",
   "execution_count": 107,
   "metadata": {},
   "outputs": [
    {
     "name": "stdout",
     "output_type": "stream",
     "text": [
      "[]\n",
      "['abcdef6']\n"
     ]
    }
   ],
   "source": [
    "import re\n",
    "def end_num(string):\n",
    "    # write your code here\n",
    "    return re.findall(r'.+[0-9]$',string)\n",
    "print(end_num('abcdef'))\n",
    "print(end_num('abcdef6'))"
   ]
  },
  {
   "cell_type": "code",
   "execution_count": 31,
   "metadata": {},
   "outputs": [
    {
     "name": "stdout",
     "output_type": "stream",
     "text": [
      "[]\n",
      "['abcdef6']\n"
     ]
    }
   ],
   "source": [
    "import re\n",
    "def end_num(string):\n",
    "    # write your code here\n",
    "\n",
    "print(end_num('abcdef'))\n",
    "print(end_num('abcdef6'))"
   ]
  },
  {
   "cell_type": "markdown",
   "metadata": {},
   "source": [
    "# Write a Python program to find all date format (yyyy-mm-dd)."
   ]
  },
  {
   "cell_type": "code",
   "execution_count": 110,
   "metadata": {},
   "outputs": [
    {
     "name": "stdout",
     "output_type": "stream",
     "text": [
      "[('1990', '10', '01')]\n",
      "[('1990', '1', '01')]\n",
      "[]\n",
      "[]\n"
     ]
    }
   ],
   "source": [
    "import re\n",
    "def find_date(string):\n",
    "    return re.findall(r'(\\d{4})-(\\d{1,2})-(\\d{1,2})',string)\n",
    "\n",
    "print(find_date('I was born in 1990-10-01'))\n",
    "print(find_date('I was born in 1990-1-01'))\n",
    "print(find_date('I was born in 1990/1/01'))\n",
    "print(find_date('I was born in 80.1.1'))"
   ]
  },
  {
   "cell_type": "code",
   "execution_count": 35,
   "metadata": {},
   "outputs": [
    {
     "name": "stdout",
     "output_type": "stream",
     "text": [
      "[('1990', '10', '01')]\n",
      "[('1990', '1', '01')]\n",
      "[]\n",
      "[]\n"
     ]
    }
   ],
   "source": [
    "import re\n",
    "def find_date(string):\n",
    "    # write your code here\n",
    "\n",
    "print(find_date('I was born in 1990-10-01'))\n",
    "print(find_date('I was born in 1990-1-01'))\n",
    "print(find_date('I was born in 1990/1/01'))\n",
    "print(find_date('I was born in 80.1.1'))"
   ]
  },
  {
   "cell_type": "markdown",
   "metadata": {},
   "source": [
    "# Bonus\n",
    "# Please grab the html tag with \"group\" class\n",
    "url: https://isaac60103.github.io/crawl_course/example/beautifulsoup_example.html"
   ]
  },
  {
   "cell_type": "code",
   "execution_count": 4,
   "metadata": {},
   "outputs": [
    {
     "name": "stdout",
     "output_type": "stream",
     "text": [
      "<div class=\"group1\" id=\"id1\">\n",
      "\tthis is div tag (class=\"group1\")\n",
      "\t</div>\n",
      "<td class=\"group1\"> row2 column2 (class=\"group1\") </td>\n",
      "<li class=\"group2\"> li tag (class=\"group2\") </li>\n",
      "<td class=\"group3\">row3 column4 (class=\"group3\")</td>\n"
     ]
    }
   ],
   "source": [
    "import requests\n",
    "import re\n",
    "from bs4 import BeautifulSoup\n",
    "\n",
    "# write your code here"
   ]
  },
  {
   "cell_type": "code",
   "execution_count": 122,
   "metadata": {},
   "outputs": [
    {
     "name": "stdout",
     "output_type": "stream",
     "text": [
      "<div class=\"group1\" id=\"id1\">\n",
      "\tthis is div tag (class=\"group1\")\n",
      "\t</div>\n",
      "<td class=\"group1\"> row2 column2 (class=\"group1\") </td>\n",
      "<li class=\"group2\"> li tag (class=\"group2\") </li>\n",
      "<td class=\"group3\">row3 column4 (class=\"group3\")</td>\n"
     ]
    }
   ],
   "source": [
    "import requests\n",
    "import re\n",
    "from bs4 import BeautifulSoup\n",
    "\n",
    "response = requests.get('https://isaac60103.github.io/crawl_course/example/beautifulsoup_example.html')\n",
    "response.encoding = \"utf-8\"\n",
    "\n",
    "soup = BeautifulSoup(response.text, 'html.parser')\n",
    "\n",
    "all_tds = soup.find_all('', {'class':re.compile('group[0-9]')})\n",
    "\n",
    "for td in all_tds:\n",
    "    print(td)\n",
    "\n"
   ]
  }
 ],
 "metadata": {
  "kernelspec": {
   "display_name": "Python 3",
   "language": "python",
   "name": "python3"
  },
  "language_info": {
   "codemirror_mode": {
    "name": "ipython",
    "version": 3
   },
   "file_extension": ".py",
   "mimetype": "text/x-python",
   "name": "python",
   "nbconvert_exporter": "python",
   "pygments_lexer": "ipython3",
   "version": "3.7.7"
  }
 },
 "nbformat": 4,
 "nbformat_minor": 2
}
