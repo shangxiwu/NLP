{
 "cells": [
  {
   "cell_type": "code",
   "execution_count": 1,
   "metadata": {},
   "outputs": [
    {
     "name": "stdout",
     "output_type": "stream",
     "text": [
      "*** Introductory Examples for the NLTK Book ***\n",
      "Loading text1, ..., text9 and sent1, ..., sent9\n",
      "Type the name of the text or sentence to view it.\n",
      "Type: 'texts()' or 'sents()' to list the materials.\n",
      "text1: Moby Dick by Herman Melville 1851\n",
      "text2: Sense and Sensibility by Jane Austen 1811\n",
      "text3: The Book of Genesis\n",
      "text4: Inaugural Address Corpus\n",
      "text5: Chat Corpus\n",
      "text6: Monty Python and the Holy Grail\n",
      "text7: Wall Street Journal\n",
      "text8: Personals Corpus\n",
      "text9: The Man Who Was Thursday by G . K . Chesterton 1908\n"
     ]
    }
   ],
   "source": [
    "import nltk\n",
    "from nltk.book import *"
   ]
  },
  {
   "cell_type": "markdown",
   "metadata": {},
   "source": [
    "# How many words are there in text2 ? How many distinct words are there?"
   ]
  },
  {
   "cell_type": "code",
   "execution_count": 2,
   "metadata": {},
   "outputs": [
    {
     "name": "stdout",
     "output_type": "stream",
     "text": [
      "Words: 141576\n",
      "Distinct words: 6833\n"
     ]
    }
   ],
   "source": [
    "print(\"Words:\", len(text2))\n",
    "print(\"Distinct words:\", len(set(text2)))"
   ]
  },
  {
   "cell_type": "markdown",
   "metadata": {},
   "source": [
    "# Calculate lexical diversity scores for text1 and text2"
   ]
  },
  {
   "cell_type": "code",
   "execution_count": 3,
   "metadata": {},
   "outputs": [
    {
     "name": "stdout",
     "output_type": "stream",
     "text": [
      "0.07406285585022564\n",
      "0.04826383002768831\n"
     ]
    }
   ],
   "source": [
    "def lexical_diversity(text):\n",
    "    return len(set(text)) / len(text)\n",
    "\n",
    "print(lexical_diversity(text1))\n",
    "print(lexical_diversity(text2))"
   ]
  },
  {
   "cell_type": "markdown",
   "metadata": {},
   "source": [
    "# find all the four-letter words in text2. With the help of a frequency distribution (FreqDist), show these words in decreasing order of frequency."
   ]
  },
  {
   "cell_type": "code",
   "execution_count": 4,
   "metadata": {},
   "outputs": [
    {
     "name": "stdout",
     "output_type": "stream",
     "text": [
      "[('that', 1297), ('with', 971), ('have', 807), ('from', 527), ('very', 492), ('them', 462), ('been', 440), ('were', 437), ('they', 428), ('more', 406), ('said', 397), ('what', 375), ('this', 372), ('than', 360), ('will', 354), ('your', 347), ('such', 340), ('much', 287), ('only', 282), ('must', 279), ('when', 261), ('time', 237), ('know', 230), ('Miss', 208), ('some', 206), ('well', 191), ('Lucy', 185), ('soon', 180), ('ever', 169), ('good', 166), ('John', 163), ('most', 152), ('make', 140), ('made', 138), ('sure', 134), ('then', 126), ('give', 126), ('even', 121), ('room', 119), ('into', 115), ('away', 112), ('dear', 109), ('felt', 106), ('same', 102), ('last', 101), ('long', 100), ('over', 100), ('Lady', 99), ('many', 98), ('left', 98), ('mind', 98), ('less', 96), ('come', 95), ('kind', 95), ('both', 92), ('They', 90), ('came', 89), ('upon', 88), ('hope', 87), ('town', 86), ('till', 82), ('tell', 82), ('like', 80), ('love', 77), ('down', 76), ('wish', 73), ('once', 72), ('gave', 71), ('done', 71), ('hear', 70), ('home', 69), ('What', 68), ('told', 68), ('whom', 67), ('just', 67), ('feel', 66), ('look', 64), ('knew', 61), ('This', 59), ('life', 58), ('each', 57), ('side', 56), ('eyes', 56), ('seen', 56), ('half', 55), ('find', 55), ('rest', 54), ('year', 54), ('took', 52), ('next', 52), ('body', 52), ('does', 50), ('wife', 49), ('Well', 49), ('here', 49), ('went', 49), ('part', 48), ('THAT', 47), ('word', 47), ('able', 46), ('else', 46), ('days', 45), ('When', 45), ('glad', 44), ('lady', 43), ('take', 43), ('poor', 43), ('name', 43), ('mean', 42), ('want', 42), ('hand', 42), ('That', 41), ('back', 40), ('talk', 40), ('real', 38), ('door', 38), ('head', 37), ('live', 36), ('girl', 36), ('dare', 36), ('case', 36), ('open', 36), ('call', 35), ('hour', 35), ('four', 34), ('Your', 34), ('gone', 34), ('week', 34), ('sake', 33), ('deal', 33), ('care', 33), ('near', 32), ('five', 31), ('keep', 31), ('stay', 30), ('full', 30), ('park', 30), ('kept', 29), ('self', 29), ('Lord', 29), ('Poor', 28), ('past', 27), ('best', 26), ('fear', 26), ('fine', 25), ('face', 25), ('pain', 25), ('late', 24), ('idea', 24), ('cold', 23), ('true', 23), ('bear', 23), ('Park', 22), ('read', 22), ('easy', 22), ('plan', 22), ('meet', 22), ('sent', 21), ('fond', 21), ('With', 21), ('view', 21), ('loss', 20), ('walk', 20), ('seem', 20), ('soul', 20), ('thus', 20), ('used', 20), ('lost', 20), ('help', 19), ('Such', 19), ('wait', 19), ('none', 18), ('pity', 18), ('calm', 18), ('Then', 18), ('hair', 18), ('need', 17), ('mine', 17), ('ease', 17), ('rich', 16), ('turn', 16), ('.\"--', 15), ('fire', 15), ('form', 15), ('note', 15), ('work', 15), ('drew', 14), ('news', 14), ('From', 14), ('duty', 14), (',\"--', 14), ('card', 14), ('says', 13), ('!\"--', 13), ('post', 13), ('evil', 13), ('rose', 13), ('paid', 12), ('warm', 12), ('fact', 12), ('mama', 12), ('hold', 12), ('join', 12), ('Here', 12), ('fell', 12), ('tone', 12), ('Have', 12), ('sigh', 11), ('rain', 11), ('send', 11), ('pray', 11), ('?\"--', 11), ('free', 11), ('Good', 11), ('Upon', 10), ('high', 10), ('dull', 10), ('safe', 10), ('lips', 10), ('lock', 10), ('sunk', 10), ('hurt', 10), ('beau', 10), ('Grey', 10), ('THEN', 10), ('hers', 9), ('Some', 9), ('spot', 9), ('seat', 9), ('quit', 9), ('hard', 9), ('dine', 9), ('sort', 9), ('laid', 9), ('maid', 9), ('died', 8), ('fair', 8), ('gain', 8), ('draw', 8), ('deny', 8), ('shew', 8), ('bred', 8), ('held', 8), ('book', 8), ('stop', 8), ('mere', 8), ('.--\"', 8), ('pass', 8), ('Tell', 8), ('road', 8), ('show', 7), ('Dear', 7), ('size', 7), ('busy', 7), ('hill', 7), ('rate', 7), ('shut', 7), ('joke', 7), ('Come', 7), ('blow', 7), ('hint', 7), ('nice', 7), ('vain', 7), ('owed', 7), ('ring', 7), ('grew', 7), ('idle', 7), ('vast', 7), ('shop', 7), ('lead', 7), ('fate', 7), ('mark', 6), ('ruin', 6), ('game', 6), ('THEM', 6), ('Four', 6), ('wind', 6), ('fall', 6), ('fast', 6), ('Anne', 6), ('Pray', 6), ('wine', 6), ('cost', 6), ('Gray', 6), ('also', 5), ('Only', 5), ('sold', 5), ('sons', 5), ('gate', 5), ('tall', 5), ('play', 5), ('loud', 5), (',--\"', 5), ('harm', 5), ('line', 5), ('YOUR', 5), ('goes', 5), ('bent', 5), ('Bond', 5), ('sink', 5), ('cast', 5), ('risk', 5), ('deep', 5), ('THIS', 5), ('WILL', 5), ('land', 5), ('urge', 5), ('Very', 5), ('sick', 4), ('bore', 4), ('wild', 4), ('lose', 4), ('fail', 4), ('sell', 4), ('mile', 4), ('snug', 4), ('hung', 4), ('sang', 4), ('song', 4), ('Even', 4), ('arms', 4), ('ride', 4), ('boys', 4), ('gift', 4), ('neck', 4), ('dead', 4), ('DOES', 4), ('tree', 4), ('rude', 4), ('Will', 4), ('ears', 4), ('pair', 4), ('tete', 4), ('born', 4), ('THEY', 3), ('rent', 3), ('move', 3), ('Like', 3), ('tame', 3), ('pure', 3), ('rank', 3), ('shed', 3), ('roof', 3), ('feet', 3), ('wise', 3), ('seek', 3), ('skin', 3), ('East', 3), ('rise', 3), ('bold', 3), ('wood', 3), ('wept', 3), ('Look', 3), ('farm', 3), ('MUST', 3), ('Much', 3), ('task', 3), ('luck', 3), ('firm', 3), ('lest', 3), ('flow', 3), ('chat', 3), ('shan', 3), ('hate', 3), ('VERY', 3), ('Long', 3), ('baby', 3), ('torn', 3), ('pang', 3), ('slow', 3), ('fool', 3), ('tied', 2), ('Five', 2), ('acts', 2), ('miss', 2), ('Mama', 2), ('Many', 2), ('leaf', 2), ('neat', 2), ('High', 2), ('shot', 2), ('damp', 2), ('Does', 2), ('dirt', 2), ('step', 2), ('foot', 2), ('ugly', 2), ('Know', 2), ('dark', 2), ('gold', 2), ('Most', 2), ('wore', 2), ('Take', 2), ('Last', 2), ('Whom', 2), ('coat', 2), ('pace', 2), ('lane', 2), ('copy', 2), ('soft', 2), ('worn', 2), ('wear', 2), ('WERE', 2), ('zeal', 2), ('anew', 2), ('ends', 2), ('bell', 2), ('ways', 2), ('sole', 2), ('flew', 2), ('Mary', 2), ('Wait', 2), ('feed', 2), ('sobs', 2), ('DEAR', 2), ('kill', 2), ('cure', 2), ('sign', 2), ('debt', 2), ('gout', 2), ('Pall', 2), ('Mall', 2), ('Bath', 2), ('drop', 2), ('vent', 2), ('gown', 2), ('tend', 2), ('eyed', 2), ('brow', 2), ('thin', 2), ('suit', 2), ('deed', 2), ('envy', 2), ('mode', 2), ('?--\"', 2), ('Sure', 2), ('cows', 2), ('weak', 2), ('fill', 2), ('lawn', 2), ('noon', 2), ('kiss', 2), ('Were', 2), ('pour', 2), ('pale', 2), ('bide', 2), ('Jane', 1), ('1811', 1), ('sale', 1), ('keen', 1), ('joys', 1), ('bind', 1), ('fish', 1), ('Cold', 1), ('DRAW', 1), ('west', 1), ('tore', 1), ('lain', 1), ('sing', 1), ('Soon', 1), ('blue', 1), ('hero', 1), ('cant', 1), ('Pope', 1), ('jest', 1), ('rash', 1), ('mild', 1), ('mass', 1), ('mare', 1), ('Down', 1), ('sail', 1), ('None', 1), ('inch', 1), ('pull', 1), ('Must', 1), ('Gone', 1), ('MIND', 1), ('fame', 1), ('hunt', 1), ('cash', 1), ('bulk', 1), ('hazy', 1), ('grey', 1), ('moss', 1), ('tidy', 1), ('army', 1), ('gigs', 1), ('navy', 1), ('defy', 1), ('ones', 1), ('turf', 1), ('Hush', 1), ('ours', 1), ('vile', 1), ('whip', 1), ('bias', 1), ('palm', 1), (';--\"', 1), ('bags', 1), ('lies', 1), ('doat', 1), ('lief', 1), ('Rose', 1), ('nods', 1), ('date', 1), ('puts', 1), ('dupe', 1), ('club', 1), ('test', 1), ('BOTH', 1), ('veal', 1), ('muff', 1), ('city', 1), ('ball', 1), ('nine', 1), ('plea', 1), ('heat', 1), ('meal', 1), ('obey', 1), ('JOHN', 1), ('food', 1), ('Mine', 1), ('bely', 1), ('!--\"', 1), ('aunt', 1), ('moan', 1), ('Mind', 1), ('dove', 1), ('cote', 1), ('stew', 1), ('meat', 1), ('KNEW', 1), ('Till', 1), ('Thus', 1), ('page', 1), ('HERS', 1), ('ages', 1), ('Life', 1), ('clue', 1), ('ONCE', 1), ('TOLD', 1), ('WORD', 1), ('seal', 1), ('duly', 1), ('hang', 1), ('bank', 1), ('Farm', 1), ('More', 1), ('dies', 1), ('Pity', 1), ('Want', 1), ('BEEN', 1), ('LOOK', 1), ('rare', 1), ('heir', 1), ('harp', 1), ('fuss', 1), ('popt', 1), ('fury', 1), ('Duty', 1), ('Born', 1), ('rage', 1), ('trim', 1), ('pink', 1), ('Once', 1), ('oath', 1), ('silk', 1), ('.)--', 1), ('bout', 1), ('...\"', 1), (';\"--', 1), ('gape', 1), ('cats', 1), ('band', 1), ('beds', 1), (':--\"', 1), ('Just', 1), ('wide', 1), ('east', 1), ('yard', 1), ('hens', 1), ('sore', 1), ('sofa', 1), ('rung', 1), ('Hour', 1), ('bury', 1), ('Hope', 1), ('Half', 1), ('gaze', 1), ('beat', 1), ('mood', 1), ('glow', 1), ('pint', 1), ('beef', 1), ('LONG', 1), (\".'--\", 1), ('cool', 1), ('Lane', 1), ('Each', 1), ('save', 1), ('hall', 1), ('mend', 1), ('Time', 1), ('keys', 1), ('edge', 1), ('LESS', 1), ('wont', 1), ('path', 1), ('LUCY', 1), ('WHAT', 1), ('tale', 1), ('TIME', 1), ('fled', 1), ('dogs', 1)]\n"
     ]
    }
   ],
   "source": [
    "fdist = FreqDist(w for w in text2 if len(w) == 4)      # find all the four-letter words in the Chat Corpus\n",
    "print(fdist.most_common())                             # print the words in decreasing order of frequency"
   ]
  },
  {
   "cell_type": "markdown",
   "metadata": {},
   "source": [
    "# Use a combination of for and if statements to loop over the text2, and print all the uppercase words, one per line."
   ]
  },
  {
   "cell_type": "code",
   "execution_count": 6,
   "metadata": {},
   "outputs": [
    {
     "name": "stdout",
     "output_type": "stream",
     "text": [
      "CHAPTER HER CHAPTER A I I I I I LET THAT REALLY I I THEY I I I I A I I I NOT I I I I I A I I I I I I YOU I I I I ONE A A THEY THEM I THEM CHAPTER 7000L I I I I SHE I I I I I I I I I WOULD MY I I I I I I CHAPTER I I I I I THAT I I I I I I I I I I I I I I I I I I I I I I I I I I I A A DRAW HIM IN THAT CHAPTER I A I I HER I I I CHAPTER A A I I I I I I I I I CHAPTER CHAPTER HE SHE MY I MY I I HER A I I I I I I I I I I I I I I CHAPTER A HE I I I A I THAT I I I I I MY CATCHING I I I I I I I I I I CHAPTER ONE I I I I I I I I I I I YOU I WOULD I I I I HIS I I I I I I I I I I CHAPTER I I I I A I I I I I I I CHAPTER HIM I I I I I I I I I I I HIS I I I I I I I I I THAT I F A CHAPTER I I I I I I I I I I I I I ONE I I I I I I I I I I I I I I I I I I I I I I I I I WHERE I I I I I I I I I I I I I I WAS I I CHAPTER I I I I I I I I I I NOW I I THAT I I I I I I I I I I I I I I I I I I I I I I I I CHAPTER I I I I I I I I I I THAT I I I YOU I I THAT I I I I YOU I ME I I DOES I NOT I I I I I I ARE I I I I I ONE ONE I I I I I A I I I I I I I I I I WE CHAPTER I I I I I I THAT MIND I I I I HIM A I I I I SOMETIMES I CHAPTER I I I I I I I I I YOUR MY I THAT TWO ONE I A I I A I I I I I I I I I I I I I I I I MY I I I I I I I I I I I I I I I I I I I I I I I I I I CHAPTER I I I I I I I I I I I I I I I I I I I I I I I I I I F MUST YOU A I I I I I I I I CHAPTER I I I I I I I I I I I I I I WERE I I I HER I I I I I I I I I I I I I I I CHAPTER I I I I I I I I I I I I I I I I I I I I I I I I I I I I I I M P I I I I I I I I I I I I I I I I I I I I I I I I I I I I I I I I HE I I I I I I I I I I I I I I I I I I CHAPTER I I I YOU I I I I I I I I I I I I I A I I MUST I I I I I I I I I I I I I I I F I CHAPTER I DID I I I I I I I I I I I I I YOU I I YOU I I I NOT YOU I I I I I I I MAY ROBERT I I I I I I I I I I I I I I I I I I I I I OCCASION THAT I I I I I I I I I I I I I I I I I I I I I I I I I I I I I I I I I I I I I I I I I I I I I I I WAS I THAT I I CHAPTER HE I I I I I I I I I I I ME I I I SHE I I I I I I I I I I CHAPTER I I I I I I I I I I I I I I I I I I I I I I I I I I I I A I NOT I I SHE I A I I I I I I I THAT I I I I I I I I I I I I I I I HER CHAPTER I I DO I I I I THAT I I I I I I I I I I I I I I I I I I HER I I I I SHOULD I I I I I MY I I I I BOTH I I CHAPTER A I I NOT W I I I I I I I I I I I I I I I I I I I I I MY CHAPTER I I THEM I I DID I I A YOU I I I I HE I I I I I I I I I I I I I I I I I CHAPTER I I I I I I I I I SHE ESTEEM CHAPTER I I MY I I I I I I I I MY DEAR MADAM I I I I I I I I I I I I I I I I JOHN WILLOUGHBY A I I I COULD I YOU I I I YOU I ME I I I CAN I I I I I I I I I M D I I I I I I M D I I I I I I I I I I I I M D I I DID I I I I I I I I I I I I I I I I I I I I I I HE CHAPTER I I I I I I I I I I I I I I I I I I I I I I I I I I I I I I I I I I I I I I I I I I I I I I THIS I I I I I A I I CAN THAT I I I I I I I I I I I I KNEW I I DO I I I I I I I I I I I CHAPTER I I I I HAD HIM I THAT A DID THAT I I I I I I I I VERY I I I I I MY HERS I I I A I SHALL I I I I NOT I I I I I I I I I I I I I I I I I THAT I A I I DID I I I I DID I I I I I I I I I I I I WILL I I I I I I I I I I I I I I I I I I I I I I HAD CAN I I I I I WAS I I I WILL I I I I I I I I I I I CHAPTER WAS ONCE SHE A A ONE ONE THESE THESE HER STILL I I STILL I I SHOULD I TOLD MONTH I I YOUR WORD NOT I I I I I I I I I I NOT I I I I I I US I HER CHAPTER I THIS I I I I I I THEM I I I I I THEM HIM I I I I I I TWICE I I ME A ALL PARTIES I I I I A I A I I I I I I A HAS I I I I I I I I THAT I I I I YOU I NOW I YOU I I I I I I HER I CHAPTER HER SHE HER I I I NOW A HAD I I DOES SHE WE YOU HAS BEEN WAS CHAPTER OWN OUGHT NOT ELINOR I I I I I I I I I I I I YOU I I I I I I SHOULD I I I I I I DOES I LOOK WAS THAT MY I I I I I I I I I HAS I I I I I I CHAPTER THEIR THAT DID I HER WERE GAUCHERIE I I I I I I I I I I I I I I I I I I I I I I I I I DO THEIR II CHAPTER I I I I I I I I I I I I I I I THAT I I I I I HER I I HIS THEN I I I I I SHE I I I I I I I HIM HER THAT HAD I I I I I I I I I I I I I I I I I I I I I I HER I I I I I I I I I I NOW I I THEN I I I VERY I I I I I I I ANY THAT THERE I I I I I I I I I I I I I WE I I I I I THAT I HER I I A CHAPTER THEY I WITHOUT I I I I SHE I I I I YOU I I IS I I DID I I I I I WAS I I I I I HER HER I I I I I I I I I THAT I I I I I YOU I I I THAT I I I I I I I I I I I I I I I I I I I THAT I I I NOW I I I I I I I I I I I I I COULD I I CHAPTER I I I I I I NOT THAT I I I I I I I I I I THAT I I L I SHE HER THEN I SHE CAN I I I I I I I I CHAPTER I I TRIED I I I I I I I I I I I I I I I I I I I I I I I I I THAT A I I YOU THAT I I I I I I I I I I I I I I LOOKED I ME YOU I I I I I I I I I I I HAS I I I I SHOULD I I YOU HER HIS I I I I I THAT I I I I ME I MAY I I I I I I CHAPTER WOULD I I I YOU NOW I I I I NOW I I I THIS A I I I THAT I THIS NOW ROBERT S I I I I ONE I I WILL I I I I I I DID I THIS I NOW I I I HIM I I YOUR I I I I I I I I I I I I I I I I I THEN I I I I I I I SHE CHAPTER SHE SHE SHE CHAPTER A THEN I I COULD HE HE HER HER HER DID ALMOST SHE CHAPTER I I NOT ME I I I I I I AM I I I I I A I I OUGHT I DO I I NOW I I I DOES LONG NOW I YOU I I I I I SHE I I I I I I I I I I THEN I I I I I I I I I THEN I I I YOU I I I I I I A I I I I I I I I I SHE I I I I I I I I I NOT I I I I I I I I I I I I I A I I I I I I I I I I I I I I A I I I I I I I I I I DID I I I I I I I I I I I I I I I I I I I I I I I I I I I I I I I NOT I MY I I I I CAN THEN I I I I I I THAT I I I I A THAT I I I I I I I I I I I I I I I I I I I I I I I I I I I I I WOULD I I I ONE I I I I I DO I I I I I I I I I CHAPTER SHE WOULD HIS I I I I I I I HIM I I ONE I I I I DID I I I I I I NOT I I HIM I I MUST THAT I I CHAPTER HER I I I I I I I I I I I I I I I I I I HE I NOW I I ALWAYS ALWAYS I VERY HE ME I I I I I I I I I I I I I I I I I I I I YOUR I I I I I I I I I I I I I THAT I I I I I I I I I I HIS A CHAPTER I I I I I I I I I I I I I LESS YOUR I THAT HIS MY I I SHE I I I I I I I I I I I I I CHAPTER I I NOT WAS I WILL I WILL I EDWARD ROBERT HER CHAPTER ONE THAT I I I I I I I I I I I I I I I I I THEN I I I HER HER THEM THAT THAT HIS DEAR SIR I I I I I I I I LUCY FERRARS I I I YOU I I I I I THAT DID I I I I YOU WHAT THEN I FAITH I I I I I I I I WAS I I I NOW THAT A I I I I I I I A HER ME I I I I IS I NOW HER DO I CHAPTER THREE I I THAT I I I DID THAT TIME SHE THAT THE END "
     ]
    }
   ],
   "source": [
    "words = [w for w in text2 if w.isupper()]             # store the words in a list\n",
    "for w in words:                                       # print all the uppercase words, one per line\n",
    "    print(w, end=' ')"
   ]
  },
  {
   "cell_type": "markdown",
   "metadata": {},
   "source": [
    "# Count the number of characters in text2 and calculate average word length of a text2"
   ]
  },
  {
   "cell_type": "code",
   "execution_count": 8,
   "metadata": {},
   "outputs": [
    {
     "name": "stdout",
     "output_type": "stream",
     "text": [
      "total length 549509\n",
      "average word length 3.881371136350794\n"
     ]
    }
   ],
   "source": [
    "total_length = sum(len(w) for w in text2)\n",
    "total_words = len(text2)\n",
    "average_word_length = total_length / total_words\n",
    "print('total length {}'.format(total_length))\n",
    "print('average word length {}'.format(average_word_length))"
   ]
  },
  {
   "cell_type": "markdown",
   "metadata": {},
   "source": [
    "#  Define a function percent(word, text) that calculates how often a given word occurs in a text, and expresses the result as a percentage."
   ]
  },
  {
   "cell_type": "code",
   "execution_count": 10,
   "metadata": {},
   "outputs": [
    {
     "name": "stdout",
     "output_type": "stream",
     "text": [
      "0.005650675255693055\n"
     ]
    }
   ],
   "source": [
    "def percent(word, text):\n",
    "    return 100 * text.count(word) / len(text)\n",
    "\n",
    "print(percent('book',text2))"
   ]
  },
  {
   "cell_type": "markdown",
   "metadata": {},
   "source": [
    "# Draw word \"happy\", \"sad\", \"angry\" in dispersion plot on text2."
   ]
  },
  {
   "cell_type": "code",
   "execution_count": 11,
   "metadata": {},
   "outputs": [
    {
     "data": {
      "image/png": "[encoded data removed]",
      "text/plain": [
       "<Figure size 432x288 with 1 Axes>"
      ]
     },
     "metadata": {
      "needs_background": "light"
     },
     "output_type": "display_data"
    }
   ],
   "source": [
    "text2.dispersion_plot([\"happy\", \"sad\", \"angry\"])"
   ]
  },
  {
   "cell_type": "code",
   "execution_count": null,
   "metadata": {},
   "outputs": [],
   "source": []
  }
 ],
 "metadata": {
  "kernelspec": {
   "display_name": "Python 3",
   "language": "python",
   "name": "python3"
  },
  "language_info": {
   "codemirror_mode": {
    "name": "ipython",
    "version": 3
   },
   "file_extension": ".py",
   "mimetype": "text/x-python",
   "name": "python",
   "nbconvert_exporter": "python",
   "pygments_lexer": "ipython3",
   "version": "3.6.10"
  }
 },
 "nbformat": 4,
 "nbformat_minor": 2
}
