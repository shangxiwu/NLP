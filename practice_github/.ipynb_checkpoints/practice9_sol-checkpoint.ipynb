{
 "cells": [
  {
   "cell_type": "code",
   "execution_count": 1,
   "metadata": {},
   "outputs": [],
   "source": [
    "from gensim.models import Word2Vec\n",
    "from sklearn.decomposition import PCA\n",
    "from matplotlib import pyplot\n",
    "\n",
    "# define training data\n",
    "sentences = [['this', 'is', 'the', 'first', 'sentence', 'for', 'word2vec'],\n",
    "             ['this', 'is', 'the', 'second', 'sentence'],\n",
    "             ['yet', 'another', 'sentence'],\n",
    "             ['one', 'more', 'sentence'],\n",
    "             ['and', 'the', 'final', 'sentence']]\n",
    "# train model\n",
    "model = Word2Vec(sentences, min_count=1)"
   ]
  },
  {
   "cell_type": "markdown",
   "metadata": {},
   "source": [
    "# Print vocabulary"
   ]
  },
  {
   "cell_type": "code",
   "execution_count": 2,
   "metadata": {},
   "outputs": [
    {
     "name": "stdout",
     "output_type": "stream",
     "text": [
      "['this', 'is', 'the', 'first', 'sentence', 'for', 'word2vec', 'second', 'yet', 'another', 'one', 'more', 'and', 'final']\n"
     ]
    }
   ],
   "source": [
    "# summarize vocabulary\n",
    "words = list(model.wv.vocab)\n",
    "print(words)"
   ]
  },
  {
   "cell_type": "markdown",
   "metadata": {},
   "source": [
    "# Print \"sentence\" wordvector"
   ]
  },
  {
   "cell_type": "code",
   "execution_count": 3,
   "metadata": {},
   "outputs": [
    {
     "name": "stdout",
     "output_type": "stream",
     "text": [
      "[ 2.3568412e-03  4.7744238e-03 -2.0788528e-03 -2.8975932e-03\n",
      "  3.0220526e-03  2.2631378e-03 -1.5393624e-03  1.9247257e-03\n",
      "  2.5896803e-03 -9.0313843e-05 -2.6034599e-04 -2.1180720e-03\n",
      " -1.7400120e-03 -1.9647672e-03  9.3758205e-04  1.0838953e-04\n",
      " -3.1942741e-03 -3.2667199e-03 -1.1720795e-03  8.8322436e-04\n",
      "  2.9608028e-03  1.3913040e-03 -2.1753754e-03  5.4241362e-04\n",
      " -4.6024905e-03 -4.0191934e-03 -3.1884427e-03 -3.2246003e-03\n",
      " -4.0592924e-03  7.2809967e-04  2.8197467e-03  2.7691999e-03\n",
      " -2.2945553e-03  4.1145482e-03 -2.6212281e-03 -2.8267263e-03\n",
      "  2.8501605e-03  3.7170381e-03  4.0059788e-03 -3.5596099e-03\n",
      " -2.3043526e-03  3.9843195e-03 -1.0314785e-03 -2.3567950e-04\n",
      " -1.6714146e-03  3.0383847e-03 -4.1471878e-03  4.0736124e-03\n",
      " -6.0809642e-04  3.8401361e-03 -1.0478721e-03 -4.0859948e-03\n",
      " -1.7828851e-03  2.3764290e-03  4.7083166e-03  4.4628135e-03\n",
      "  1.2809208e-04 -1.8122984e-03  4.8412159e-03  2.6969502e-03\n",
      " -1.6950556e-03  3.8837462e-03  2.7062625e-04  3.0662280e-03\n",
      " -4.7636312e-04 -3.9830678e-03  2.6634869e-03 -5.5462314e-04\n",
      "  1.9176416e-03  3.1974372e-03 -4.8470034e-04  3.6050880e-03\n",
      " -2.5697735e-03  1.9540887e-03 -1.9254077e-03  2.6126541e-03\n",
      " -2.1102140e-03  2.3958418e-03 -1.6783114e-03 -2.6557478e-03\n",
      "  3.2319555e-03 -1.5142843e-03  8.2878902e-04 -1.5601607e-04\n",
      "  3.7925050e-03 -1.5038588e-03  4.3007848e-03 -1.1644004e-03\n",
      " -2.9108457e-03 -4.5604976e-03  1.1280398e-03  4.4731321e-03\n",
      "  1.9636683e-03  2.1528399e-03 -6.5206835e-04 -1.5332911e-03\n",
      " -3.8343910e-04 -3.5029452e-03  1.5866286e-05 -2.3223120e-03]\n"
     ]
    },
    {
     "name": "stderr",
     "output_type": "stream",
     "text": [
      "C:\\Users\\isaac\\Anaconda3\\envs\\NLP\\lib\\site-packages\\ipykernel_launcher.py:2: DeprecationWarning: Call to deprecated `__getitem__` (Method will be removed in 4.0.0, use self.wv.__getitem__() instead).\n",
      "  \n"
     ]
    }
   ],
   "source": [
    "# access vector for one word\n",
    "print(model['sentence'])"
   ]
  },
  {
   "cell_type": "markdown",
   "metadata": {},
   "source": [
    "# Use PCA to visualize"
   ]
  },
  {
   "cell_type": "code",
   "execution_count": 4,
   "metadata": {},
   "outputs": [
    {
     "name": "stderr",
     "output_type": "stream",
     "text": [
      "C:\\Users\\isaac\\Anaconda3\\envs\\NLP\\lib\\site-packages\\ipykernel_launcher.py:2: DeprecationWarning: Call to deprecated `__getitem__` (Method will be removed in 4.0.0, use self.wv.__getitem__() instead).\n",
      "  \n"
     ]
    },
    {
     "data": {
      "image/png": "[encoded data removed]",
      "text/plain": [
       "<Figure size 432x288 with 1 Axes>"
      ]
     },
     "metadata": {
      "needs_background": "light"
     },
     "output_type": "display_data"
    }
   ],
   "source": [
    "# fit a 2d PCA model to the vectors\n",
    "X = model[model.wv.vocab]\n",
    "pca = PCA(n_components=2)\n",
    "result = pca.fit_transform(X)\n",
    "# create a scatter plot of the projection\n",
    "pyplot.scatter(result[:, 0], result[:, 1])\n",
    "words = list(model.wv.vocab)\n",
    "for i, word in enumerate(words):\n",
    "    pyplot.annotate(word, xy=(result[i, 0], result[i, 1]))\n",
    "pyplot.show()"
   ]
  },
  {
   "cell_type": "code",
   "execution_count": null,
   "metadata": {},
   "outputs": [],
   "source": []
  }
 ],
 "metadata": {
  "kernelspec": {
   "display_name": "Python 3",
   "language": "python",
   "name": "python3"
  },
  "language_info": {
   "codemirror_mode": {
    "name": "ipython",
    "version": 3
   },
   "file_extension": ".py",
   "mimetype": "text/x-python",
   "name": "python",
   "nbconvert_exporter": "python",
   "pygments_lexer": "ipython3",
   "version": "3.6.10"
  }
 },
 "nbformat": 4,
 "nbformat_minor": 2
}
