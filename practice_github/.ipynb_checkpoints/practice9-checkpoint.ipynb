{
 "cells": [
  {
   "cell_type": "code",
   "execution_count": 23,
   "metadata": {},
   "outputs": [
    {
     "data": {
      "text/plain": [
       "(27, 220)"
      ]
     },
     "execution_count": 23,
     "metadata": {},
     "output_type": "execute_result"
    }
   ],
   "source": [
    "from gensim.models import Word2Vec\n",
    "from sklearn.decomposition import PCA\n",
    "from matplotlib import pyplot\n",
    "\n",
    "# define training data\n",
    "sentences = [['this', 'is', 'the', 'first', 'sentence', 'for', 'word2vec'],\n",
    "             ['this', 'is', 'the', 'second', 'sentence'],\n",
    "             ['yet', 'another', 'sentence'],\n",
    "             ['one', 'more', 'sentence'],\n",
    "             ['and', 'the', 'final', 'sentence']]\n",
    "# train model\n",
    "model = Word2Vec(sentences, min_count=1)\n",
    "model.train(sentences,total_examples=len(sentences),epochs=10)"
   ]
  },
  {
   "cell_type": "markdown",
   "metadata": {},
   "source": [
    "# Print vocabulary"
   ]
  },
  {
   "cell_type": "code",
   "execution_count": 14,
   "metadata": {},
   "outputs": [
    {
     "data": {
      "text/plain": [
       "['this',\n",
       " 'is',\n",
       " 'the',\n",
       " 'first',\n",
       " 'sentence',\n",
       " 'for',\n",
       " 'word2vec',\n",
       " 'second',\n",
       " 'yet',\n",
       " 'another',\n",
       " 'one',\n",
       " 'more',\n",
       " 'and',\n",
       " 'final']"
      ]
     },
     "execution_count": 14,
     "metadata": {},
     "output_type": "execute_result"
    }
   ],
   "source": [
    "words = model.wv.vocab.keys()\n",
    "[word for word in words]\n"
   ]
  },
  {
   "cell_type": "code",
   "execution_count": 2,
   "metadata": {},
   "outputs": [
    {
     "name": "stdout",
     "output_type": "stream",
     "text": [
      "['this', 'is', 'the', 'first', 'sentence', 'for', 'word2vec', 'second', 'yet', 'another', 'one', 'more', 'and', 'final']\n"
     ]
    }
   ],
   "source": [
    "## write your code here\n",
    "print(words)"
   ]
  },
  {
   "cell_type": "markdown",
   "metadata": {},
   "source": [
    "# Print \"sentence\" wordvector"
   ]
  },
  {
   "cell_type": "code",
   "execution_count": 12,
   "metadata": {},
   "outputs": [
    {
     "data": {
      "text/plain": [
       "array([ 1.8824985e-04,  2.1272253e-03, -1.4488370e-04,  3.6647217e-03,\n",
       "       -3.8804647e-03,  3.3368223e-04, -8.8156399e-04,  3.8382777e-03,\n",
       "       -8.0327725e-04,  3.4113852e-03, -2.5885873e-03,  1.2229830e-03,\n",
       "        2.0228962e-03, -4.3844529e-03,  4.8393318e-03, -4.7365464e-03,\n",
       "        3.7294690e-04, -2.5510006e-03, -3.3973276e-03,  4.4801640e-03,\n",
       "        1.9919835e-03, -7.2019646e-04, -2.6013909e-03,  3.7475803e-03,\n",
       "        2.5733660e-03, -5.9162686e-04,  1.5540891e-03, -4.2650723e-03,\n",
       "       -4.5204712e-03,  2.1263729e-04,  1.9243145e-03, -9.1080519e-04,\n",
       "       -1.6492851e-03,  9.8920800e-04, -2.5250926e-03,  3.5190203e-03,\n",
       "        3.6545706e-03,  2.3259108e-03,  6.7789503e-04,  1.5316480e-03,\n",
       "        3.0060993e-03, -8.3332200e-04, -1.9019626e-03,  1.0667830e-03,\n",
       "       -1.3953828e-03, -1.9383169e-03,  2.6555711e-03,  2.4515091e-05,\n",
       "       -2.2164055e-03,  3.9640738e-04, -1.1986764e-03, -1.9394431e-03,\n",
       "        3.8334024e-03, -3.7371067e-03, -1.7367308e-03,  1.6195076e-03,\n",
       "        2.2670787e-03, -2.1721929e-04,  2.1540234e-03, -2.6642662e-03,\n",
       "        4.1459780e-03, -3.6324358e-03,  1.9022329e-03,  3.4801188e-04,\n",
       "       -1.3942227e-03,  5.2658416e-04, -4.0331169e-04,  1.6137034e-03,\n",
       "       -3.7463631e-03,  2.0190148e-04,  2.4350465e-03,  9.1268303e-05,\n",
       "        1.5469803e-03, -3.9877859e-03, -2.2528386e-03,  2.1883531e-04,\n",
       "       -3.7688056e-03, -4.6321121e-03, -1.9814789e-03,  2.6951046e-03,\n",
       "       -2.5500898e-04, -9.9385472e-04, -2.2929895e-03, -3.9534727e-03,\n",
       "        1.8747392e-03, -7.6352313e-05,  1.8237830e-03,  2.9987278e-03,\n",
       "       -3.1651373e-03, -8.9094316e-04, -2.1036472e-03,  2.3074346e-03,\n",
       "        1.7752408e-03,  2.4885533e-03,  2.1226890e-03, -4.2765141e-03,\n",
       "       -3.1945005e-03,  4.2963582e-03,  3.9445283e-03, -4.2358874e-03],\n",
       "      dtype=float32)"
      ]
     },
     "execution_count": 12,
     "metadata": {},
     "output_type": "execute_result"
    }
   ],
   "source": [
    "model.wv['sentence']"
   ]
  },
  {
   "cell_type": "code",
   "execution_count": 3,
   "metadata": {},
   "outputs": [
    {
     "name": "stdout",
     "output_type": "stream",
     "text": [
      "[ 2.3568412e-03  4.7744238e-03 -2.0788528e-03 -2.8975932e-03\n",
      "  3.0220526e-03  2.2631378e-03 -1.5393624e-03  1.9247257e-03\n",
      "  2.5896803e-03 -9.0313843e-05 -2.6034599e-04 -2.1180720e-03\n",
      " -1.7400120e-03 -1.9647672e-03  9.3758205e-04  1.0838953e-04\n",
      " -3.1942741e-03 -3.2667199e-03 -1.1720795e-03  8.8322436e-04\n",
      "  2.9608028e-03  1.3913040e-03 -2.1753754e-03  5.4241362e-04\n",
      " -4.6024905e-03 -4.0191934e-03 -3.1884427e-03 -3.2246003e-03\n",
      " -4.0592924e-03  7.2809967e-04  2.8197467e-03  2.7691999e-03\n",
      " -2.2945553e-03  4.1145482e-03 -2.6212281e-03 -2.8267263e-03\n",
      "  2.8501605e-03  3.7170381e-03  4.0059788e-03 -3.5596099e-03\n",
      " -2.3043526e-03  3.9843195e-03 -1.0314785e-03 -2.3567950e-04\n",
      " -1.6714146e-03  3.0383847e-03 -4.1471878e-03  4.0736124e-03\n",
      " -6.0809642e-04  3.8401361e-03 -1.0478721e-03 -4.0859948e-03\n",
      " -1.7828851e-03  2.3764290e-03  4.7083166e-03  4.4628135e-03\n",
      "  1.2809208e-04 -1.8122984e-03  4.8412159e-03  2.6969502e-03\n",
      " -1.6950556e-03  3.8837462e-03  2.7062625e-04  3.0662280e-03\n",
      " -4.7636312e-04 -3.9830678e-03  2.6634869e-03 -5.5462314e-04\n",
      "  1.9176416e-03  3.1974372e-03 -4.8470034e-04  3.6050880e-03\n",
      " -2.5697735e-03  1.9540887e-03 -1.9254077e-03  2.6126541e-03\n",
      " -2.1102140e-03  2.3958418e-03 -1.6783114e-03 -2.6557478e-03\n",
      "  3.2319555e-03 -1.5142843e-03  8.2878902e-04 -1.5601607e-04\n",
      "  3.7925050e-03 -1.5038588e-03  4.3007848e-03 -1.1644004e-03\n",
      " -2.9108457e-03 -4.5604976e-03  1.1280398e-03  4.4731321e-03\n",
      "  1.9636683e-03  2.1528399e-03 -6.5206835e-04 -1.5332911e-03\n",
      " -3.8343910e-04 -3.5029452e-03  1.5866286e-05 -2.3223120e-03]\n"
     ]
    },
    {
     "name": "stderr",
     "output_type": "stream",
     "text": [
      "C:\\Users\\isaac\\Anaconda3\\envs\\NLP\\lib\\site-packages\\ipykernel_launcher.py:2: DeprecationWarning: Call to deprecated `__getitem__` (Method will be removed in 4.0.0, use self.wv.__getitem__() instead).\n",
      "  \n"
     ]
    }
   ],
   "source": [
    "## write your code here"
   ]
  },
  {
   "cell_type": "markdown",
   "metadata": {},
   "source": [
    "# Use PCA to visualize"
   ]
  },
  {
   "cell_type": "code",
   "execution_count": 21,
   "metadata": {},
   "outputs": [
    {
     "data": {
      "text/plain": [
       "array([[ 0.00682914, -0.00789818],\n",
       "       [-0.01210315, -0.01077533],\n",
       "       [ 0.00973298,  0.00355891],\n",
       "       [ 0.01668214, -0.00747457],\n",
       "       [-0.01111273,  0.00969578],\n",
       "       [-0.00469297, -0.01403742],\n",
       "       [-0.00525054, -0.00664182],\n",
       "       [ 0.01774164, -0.00700554],\n",
       "       [-0.00578458, -0.00465757],\n",
       "       [-0.01183482, -0.00300845],\n",
       "       [ 0.00141862,  0.00917281],\n",
       "       [-0.01048021,  0.00693724],\n",
       "       [ 0.00450249,  0.01434057],\n",
       "       [ 0.00435199,  0.01779358]], dtype=float32)"
      ]
     },
     "execution_count": 21,
     "metadata": {},
     "output_type": "execute_result"
    }
   ],
   "source": [
    "X_reduced = PCA(n_components=2).fit_transform(model.wv.vectors)\n",
    "X_reduced"
   ]
  },
  {
   "cell_type": "code",
   "execution_count": 25,
   "metadata": {},
   "outputs": [
    {
     "data": {
      "image/png": "[encoded data removed]",
      "text/plain": [
       "<Figure size 432x288 with 1 Axes>"
      ]
     },
     "metadata": {
      "needs_background": "light"
     },
     "output_type": "display_data"
    }
   ],
   "source": [
    "from matplotlib import pyplot as plt\n",
    "pca = PCA(n_components=2)\n",
    "\n",
    "result = pca.fit_transform([model.wv[i] for i in words])\n",
    "plt.scatter(result[:, 0], result[:,1])\n",
    "\n",
    "for i , word in enumerate(words):\n",
    "    plt.annotate(word, xy =(result[i,0],result[i,1]))\n",
    "    \n",
    "plt.show()"
   ]
  },
  {
   "cell_type": "code",
   "execution_count": 4,
   "metadata": {},
   "outputs": [
    {
     "name": "stderr",
     "output_type": "stream",
     "text": [
      "C:\\Users\\isaac\\Anaconda3\\envs\\NLP\\lib\\site-packages\\ipykernel_launcher.py:2: DeprecationWarning: Call to deprecated `__getitem__` (Method will be removed in 4.0.0, use self.wv.__getitem__() instead).\n",
      "  \n"
     ]
    },
    {
     "data": {
      "image/png": "[encoded data removed]",
      "text/plain": [
       "<Figure size 432x288 with 1 Axes>"
      ]
     },
     "metadata": {
      "needs_background": "light"
     },
     "output_type": "display_data"
    }
   ],
   "source": [
    "# write your code here\n"
   ]
  },
  {
   "cell_type": "code",
   "execution_count": null,
   "metadata": {},
   "outputs": [],
   "source": []
  }
 ],
 "metadata": {
  "kernelspec": {
   "display_name": "Python 3",
   "language": "python",
   "name": "python3"
  },
  "language_info": {
   "codemirror_mode": {
    "name": "ipython",
    "version": 3
   },
   "file_extension": ".py",
   "mimetype": "text/x-python",
   "name": "python",
   "nbconvert_exporter": "python",
   "pygments_lexer": "ipython3",
   "version": "3.7.7"
  }
 },
 "nbformat": 4,
 "nbformat_minor": 2
}
