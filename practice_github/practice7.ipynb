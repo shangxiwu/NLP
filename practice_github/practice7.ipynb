{
 "cells": [
  {
   "cell_type": "markdown",
   "metadata": {},
   "source": [
    "# Use tf-idf to do extractive summary  \n",
    "hint: use summation of tf-idf weight on each sentence to decide if the sentence is important or not "
   ]
  },
  {
   "cell_type": "code",
   "execution_count": 2,
   "metadata": {},
   "outputs": [
    {
     "name": "stdout",
     "output_type": "stream",
     "text": [
      "52\n"
     ]
    }
   ],
   "source": [
    "from sklearn.feature_extraction.text import CountVectorizer\n",
    "from sklearn.feature_extraction.text import TfidfTransformer\n",
    "from nltk import sent_tokenize, word_tokenize, PorterStemmer\n",
    "from nltk.corpus import stopwords\n",
    "\n",
    "text = '''\n",
    "Those Who Are Resilient Stay In The Game Longer\n",
    "“On the mountains of truth you can never climb in vain: either you will reach a point higher up today, or you will be training your powers so that you will be able to climb higher tomorrow.” — Friedrich Nietzsche\n",
    "Challenges and setbacks are not meant to defeat you, but promote you. However, I realise after many years of defeats, it can crush your spirit and it is easier to give up than risk further setbacks and disappointments. Have you experienced this before? To be honest, I don’t have the answers. I can’t tell you what the right course of action is; only you will know. However, it’s important not to be discouraged by failure when pursuing a goal or a dream, since failure itself means different things to different people. To a person with a Fixed Mindset failure is a blow to their self-esteem, yet to a person with a Growth Mindset, it’s an opportunity to improve and find new ways to overcome their obstacles. Same failure, yet different responses. Who is right and who is wrong? Neither. Each person has a different mindset that decides their outcome. Those who are resilient stay in the game longer and draw on their inner means to succeed.\n",
    "I’ve coached mummy and mom clients who gave up after many years toiling away at their respective goal or dream. It was at that point their biggest breakthrough came. Perhaps all those years of perseverance finally paid off. It was the 19th Century’s minister Henry Ward Beecher who once said: “One’s best success comes after their greatest disappointments.” No one knows what the future holds, so your only guide is whether you can endure repeated defeats and disappointments and still pursue your dream. Consider the advice from the American academic and psychologist Angela Duckworth who writes in Grit: The Power of Passion and Perseverance: “Many of us, it seems, quit what we start far too early and far too often. Even more than the effort a gritty person puts in on a single day, what matters is that they wake up the next day, and the next, ready to get on that treadmill and keep going.”\n",
    "I know one thing for certain: don’t settle for less than what you’re capable of, but strive for something bigger. Some of you reading this might identify with this message because it resonates with you on a deeper level. For others, at the end of their tether the message might be nothing more than a trivial pep talk. What I wish to convey irrespective of where you are in your journey is: NEVER settle for less. If you settle for less, you will receive less than you deserve and convince yourself you are justified to receive it.\n",
    "“Two people on a precipice over Yosemite Valley” by Nathan Shipps on Unsplash\n",
    "Develop A Powerful Vision Of What You Want\n",
    "“Your problem is to bridge the gap which exists between where you are now and the goal you intend to reach.” — Earl Nightingale\n",
    "I recall a passage my father often used growing up in 1990s: “Don’t tell me your problems unless you’ve spent weeks trying to solve them yourself.” That advice has echoed in my mind for decades and became my motivator. Don’t leave it to other people or outside circumstances to motivate you because you will be let down every time. It must come from within you. Gnaw away at your problems until you solve them or find a solution. Problems are not stop signs, they are advising you that more work is required to overcome them. Most times, problems help you gain a skill or develop the resources to succeed later. So embrace your challenges and develop the grit to push past them instead of retreat in resignation. Where are you settling in your life right now? Could you be you playing for bigger stakes than you are? Are you willing to play bigger even if it means repeated failures and setbacks? You should ask yourself these questions to decide whether you’re willing to put yourself on the line or settle for less. And that’s fine if you’re content to receive less, as long as you’re not regretful later.\n",
    "If you have not achieved the success you deserve and are considering giving up, will you regret it in a few years or decades from now? Only you can answer that, but you should carve out time to discover your motivation for pursuing your goals. It’s a fact, if you don’t know what you want you’ll get what life hands you and it may not be in your best interest, affirms author Larry Weidel: “Winners know that if you don’t figure out what you want, you’ll get whatever life hands you.” The key is to develop a powerful vision of what you want and hold that image in your mind. Nurture it daily and give it life by taking purposeful action towards it.\n",
    "Vision + desire + dedication + patience + daily action leads to astonishing success. Are you willing to commit to this way of life or jump ship at the first sign of failure? I’m amused when I read questions written by millennials on Quora who ask how they can become rich and famous or the next Elon Musk. Success is a fickle and long game with highs and lows. Similarly, there are no assurances even if you’re an overnight sensation, to sustain it for long, particularly if you don’t have the mental and emotional means to endure it. This means you must rely on the one true constant in your favour: your personal development. The more you grow, the more you gain in terms of financial resources, status, success — simple. If you leave it to outside conditions to dictate your circumstances, you are rolling the dice on your future.\n",
    "So become intentional on what you want out of life. Commit to it. Nurture your dreams. Focus on your development and if you want to give up, know what’s involved before you take the plunge. Because I assure you, someone out there right now is working harder than you, reading more books, sleeping less and sacrificing all they have to realise their dreams and it may contest with yours. Don’t leave your dreams to chance.\n",
    "'''\n",
    "\n",
    "\n",
    "sentences = sent_tokenize(text)\n",
    "total_documents = len(sentences)\n",
    "print(total_documents)\n",
    "\n",
    "stop_words = set(stopwords.words(\"english\"))\n",
    "\n",
    "clean_sentences = []\n",
    "pst = PorterStemmer()\n",
    "\n",
    "\n",
    "for i in sentences:\n",
    "    words_list = word_tokenize(i)\n",
    "    tmp_string = ''\n",
    "    for j in words_list:\n",
    "        j = pst.stem(j.lower())      \n",
    "        if j in stop_words:\n",
    "            continue\n",
    "        tmp_string = tmp_string +' '+j\n",
    "    clean_sentences.append(tmp_string)\n"
   ]
  },
  {
   "cell_type": "code",
   "execution_count": 2,
   "metadata": {
    "scrolled": true
   },
   "outputs": [
    {
     "name": "stdout",
     "output_type": "stream",
     "text": [
      "\n",
      "Those Who Are Resilient Stay In The Game Longer\n",
      "“On the mountains of truth you can never climb in vain: either you will reach a point higher up today, or you will be training your powers so that you will be able to climb higher tomorrow.” — Friedrich Nietzsche\n",
      "Challenges and setbacks are not meant to defeat you, but promote you.\n",
      "============\n",
      " resili stay game longer “ mountain truth never climb vain : either reach point higher today , train power abl climb higher tomorrow. ” — friedrich nietzsch challeng setback meant defeat , promot .\n"
     ]
    }
   ],
   "source": [
    "print(sentences[0])\n",
    "print('============')\n",
    "print(clean_sentences[0])"
   ]
  },
  {
   "cell_type": "code",
   "execution_count": 11,
   "metadata": {},
   "outputs": [
    {
     "data": {
      "text/plain": [
       "[' resili stay game longer “ mountain truth never climb vain : either reach point higher today , train power abl climb higher tomorrow. ” — friedrich nietzsch challeng setback meant defeat , promot .',\n",
       " ' howev , realis mani year defeat , crush spirit easier give risk setback disappoint .',\n",
       " ' experienc thi befor ?',\n",
       " ' honest , ’ answer .',\n",
       " ' ’ tell right cours action ; onli know .',\n",
       " ' howev , ’ import discourag failur pursu goal dream , sinc failur mean differ thing differ peopl .',\n",
       " ' person fix mindset failur blow self-esteem , yet person growth mindset , ’ opportun improv find new way overcom obstacl .',\n",
       " ' failur , yet differ respons .',\n",
       " ' right wrong ?',\n",
       " ' neither .',\n",
       " ' person ha differ mindset decid outcom .',\n",
       " ' resili stay game longer draw inner mean succeed .',\n",
       " ' ’ coach mummi mom client gave mani year toil away respect goal dream .',\n",
       " ' wa point biggest breakthrough came .',\n",
       " ' perhap year persever final paid .',\n",
       " ' wa 19th centuri ’ minist henri ward beecher onc said : “ one ’ best success come greatest disappointments. ” one know futur hold , onli guid whether endur repeat defeat disappoint still pursu dream .',\n",
       " ' consid advic american academ psychologist angela duckworth write grit : power passion persever : “ mani us , seem , quit start far earli far often .',\n",
       " ' even effort gritti person put singl day , matter wake next day , next , readi get treadmil keep going. ” know one thing certain : ’ settl less ’ capabl , strive someth bigger .',\n",
       " ' read thi might identifi thi messag becaus reson deeper level .',\n",
       " ' , end tether messag might noth trivial pep talk .',\n",
       " ' wish convey irrespect journey : never settl less .',\n",
       " ' settl less , receiv less deserv convinc justifi receiv .',\n",
       " ' “ two peopl precipic yosemit valley ” nathan shipp unsplash develop power vision want “ problem bridg gap exist goal intend reach. ” — earl nightingal recal passag father often use grow 1990 : “ ’ tell problem unless ’ spent week tri solv yourself. ” advic ha echo mind decad becam motiv .',\n",
       " ' ’ leav peopl outsid circumst motiv becaus let everi time .',\n",
       " ' must come within .',\n",
       " ' gnaw away problem solv find solut .',\n",
       " ' problem stop sign , advis work requir overcom .',\n",
       " ' time , problem help gain skill develop resourc succeed later .',\n",
       " ' embrac challeng develop grit push past instead retreat resign .',\n",
       " ' settl life right ?',\n",
       " ' could play bigger stake ?',\n",
       " ' play bigger even mean repeat failur setback ?',\n",
       " ' ask question decid whether ’ put line settl less .',\n",
       " ' ’ fine ’ content receiv less , long ’ regret later .',\n",
       " ' achiev success deserv consid give , regret year decad ?',\n",
       " ' onli answer , carv time discov motiv pursu goal .',\n",
       " ' ’ fact , ’ know want ’ get life hand may best interest , affirm author larri weidel : “ winner know ’ figur want , ’ get whatev life hand you. ” key develop power vision want hold imag mind .',\n",
       " ' nurtur daili give life take purpos action toward .',\n",
       " ' vision + desir + dedic + patienc + daili action lead astonish success .',\n",
       " ' commit thi way life jump ship first sign failur ?',\n",
       " ' ’ amus read question written millenni quora ask becom rich famou next elon musk .',\n",
       " ' success fickl long game high low .',\n",
       " ' similarli , assur even ’ overnight sensat , sustain long , particularli ’ mental emot mean endur .',\n",
       " ' thi mean must reli one true constant favour : person develop .',\n",
       " ' grow , gain term financi resourc , statu , success — simpl .',\n",
       " ' leav outsid condit dictat circumst , roll dice futur .',\n",
       " ' becom intent want life .',\n",
       " ' commit .',\n",
       " ' nurtur dream .',\n",
       " ' focu develop want give , know ’ involv befor take plung .',\n",
       " ' becaus assur , someon right work harder , read book , sleep less sacrif realis dream may contest .',\n",
       " ' ’ leav dream chanc .']"
      ]
     },
     "execution_count": 11,
     "metadata": {},
     "output_type": "execute_result"
    }
   ],
   "source": [
    "clean_sentences\n"
   ]
  },
  {
   "cell_type": "code",
   "execution_count": 33,
   "metadata": {},
   "outputs": [
    {
     "name": "stdout",
     "output_type": "stream",
     "text": [
      "['1990', '19th', 'abl', 'academ', 'achiev', 'action', 'advic', 'advis', 'affirm', 'american', 'amus', 'angela', 'answer', 'ask', 'assur', 'astonish', 'author', 'away', 'becam', 'becaus', 'becom', 'beecher', 'befor', 'best', 'bigger', 'biggest', 'blow', 'book', 'breakthrough', 'bridg', 'came', 'capabl', 'carv', 'centuri', 'certain', 'challeng', 'chanc', 'circumst', 'client', 'climb', 'coach', 'come', 'commit', 'condit', 'consid', 'constant', 'content', 'contest', 'convey', 'convinc', 'could', 'cours', 'crush', 'daili', 'day', 'decad', 'decid', 'dedic', 'deeper', 'defeat', 'deserv', 'desir', 'develop', 'dice', 'dictat', 'differ', 'disappoint', 'disappointments', 'discourag', 'discov', 'draw', 'dream', 'duckworth', 'earl', 'earli', 'easier', 'echo', 'effort', 'either', 'elon', 'embrac', 'emot', 'end', 'endur', 'esteem', 'even', 'everi', 'exist', 'experienc', 'fact', 'failur', 'famou', 'far', 'father', 'favour', 'fickl', 'figur', 'final', 'financi', 'find', 'fine', 'first', 'fix', 'focu', 'friedrich', 'futur', 'gain', 'game', 'gap', 'gave', 'get', 'give', 'gnaw', 'goal', 'going', 'greatest', 'grit', 'gritti', 'grow', 'growth', 'guid', 'ha', 'hand', 'harder', 'help', 'henri', 'high', 'higher', 'hold', 'honest', 'howev', 'identifi', 'imag', 'import', 'improv', 'inner', 'instead', 'intend', 'intent', 'interest', 'involv', 'irrespect', 'journey', 'jump', 'justifi', 'keep', 'key', 'know', 'larri', 'later', 'lead', 'leav', 'less', 'let', 'level', 'life', 'line', 'long', 'longer', 'low', 'mani', 'matter', 'may', 'mean', 'meant', 'mental', 'messag', 'might', 'millenni', 'mind', 'mindset', 'minist', 'mom', 'motiv', 'mountain', 'mummi', 'musk', 'must', 'nathan', 'neither', 'never', 'new', 'next', 'nietzsch', 'nightingal', 'noth', 'nurtur', 'obstacl', 'often', 'onc', 'one', 'onli', 'opportun', 'outcom', 'outsid', 'overcom', 'overnight', 'paid', 'particularli', 'passag', 'passion', 'past', 'patienc', 'peopl', 'pep', 'perhap', 'persever', 'person', 'play', 'plung', 'point', 'power', 'precipic', 'problem', 'promot', 'psychologist', 'purpos', 'pursu', 'push', 'put', 'question', 'quit', 'quora', 'reach', 'read', 'readi', 'realis', 'recal', 'receiv', 'regret', 'reli', 'repeat', 'requir', 'resign', 'resili', 'reson', 'resourc', 'respect', 'respons', 'retreat', 'rich', 'right', 'risk', 'roll', 'sacrif', 'said', 'seem', 'self', 'sensat', 'setback', 'settl', 'ship', 'shipp', 'sign', 'similarli', 'simpl', 'sinc', 'singl', 'skill', 'sleep', 'solut', 'solv', 'someon', 'someth', 'spent', 'spirit', 'stake', 'start', 'statu', 'stay', 'still', 'stop', 'strive', 'succeed', 'success', 'sustain', 'take', 'talk', 'tell', 'term', 'tether', 'thi', 'thing', 'time', 'today', 'toil', 'tomorrow', 'toward', 'train', 'treadmil', 'tri', 'trivial', 'true', 'truth', 'two', 'unless', 'unsplash', 'us', 'use', 'vain', 'valley', 'vision', 'wa', 'wake', 'want', 'ward', 'way', 'week', 'weidel', 'whatev', 'whether', 'winner', 'wish', 'within', 'work', 'write', 'written', 'wrong', 'year', 'yet', 'yosemit', 'you', 'yourself']\n",
      "[[0 0 1 ... 0 0 0]\n",
      " [0 0 0 ... 0 0 0]\n",
      " [0 0 0 ... 0 0 0]\n",
      " ...\n",
      " [0 0 0 ... 0 0 0]\n",
      " [0 0 0 ... 0 0 0]\n",
      " [0 0 0 ... 0 0 0]]\n"
     ]
    }
   ],
   "source": [
    "vectorizer = CountVectorizer()    \n",
    "\n",
    "X = vectorizer.fit_transform(clean_sentences)       #先轉成 bag of words\n",
    "\n",
    "word = vectorizer.get_feature_names()\n",
    "print(word)\n",
    "\n",
    "print(X.toarray())\n",
    " "
   ]
  },
  {
   "cell_type": "code",
   "execution_count": 46,
   "metadata": {},
   "outputs": [
    {
     "data": {
      "text/plain": [
       "['',\n",
       " 'resili',\n",
       " 'stay',\n",
       " 'game',\n",
       " 'longer',\n",
       " '“',\n",
       " 'mountain',\n",
       " 'truth',\n",
       " 'never',\n",
       " 'climb',\n",
       " 'vain',\n",
       " ':',\n",
       " 'either',\n",
       " 'reach',\n",
       " 'point',\n",
       " 'higher',\n",
       " 'today',\n",
       " ',',\n",
       " 'train',\n",
       " 'power',\n",
       " 'abl',\n",
       " 'climb',\n",
       " 'higher',\n",
       " 'tomorrow.',\n",
       " '”',\n",
       " '—',\n",
       " 'friedrich',\n",
       " 'nietzsch',\n",
       " 'challeng',\n",
       " 'setback',\n",
       " 'meant',\n",
       " 'defeat',\n",
       " ',',\n",
       " 'promot',\n",
       " '.']"
      ]
     },
     "execution_count": 46,
     "metadata": {},
     "output_type": "execute_result"
    }
   ],
   "source": [
    "clean_sentences[0].split(' ')"
   ]
  },
  {
   "cell_type": "code",
   "execution_count": 52,
   "metadata": {},
   "outputs": [
    {
     "name": "stdout",
     "output_type": "stream",
     "text": [
      "Have you experienced this before?\n",
      "Who is right and who is wrong?\n",
      "Neither.\n",
      "Each person has a different mindset that decides their outcome.\n",
      "It was at that point their biggest breakthrough came.\n",
      "Perhaps all those years of perseverance finally paid off.\n",
      "It must come from within you.\n",
      "Gnaw away at your problems until you solve them or find a solution.\n",
      "Where are you settling in your life right now?\n",
      "Could you be you playing for bigger stakes than you are?\n",
      "Success is a fickle and long game with highs and lows.\n",
      "So become intentional on what you want out of life.\n",
      "Commit to it.\n",
      "Nurture your dreams.\n"
     ]
    }
   ],
   "source": [
    "threshold = 0.3\n",
    "## write your code here\n",
    "\n",
    "transformer = TfidfTransformer()\n",
    "tfidf = transformer.fit_transform(X)\n",
    "tfidf_weigth = tfidf.toarray()\n",
    "score_list = []\n",
    "\n",
    "for i in range(total_documents):\n",
    "    score_sum = 0\n",
    "    for j in range(len(word)):\n",
    "       \n",
    "        score_sum = score_sum + tfidf_weigth[i][j]\n",
    "    score_sum= score_sum/len(clean_sentences[i].split(' '))\n",
    "    score_list.append(score_sum)\n",
    "    if score_sum > threshold:\n",
    "        print(sentences[i])     \n",
    "\n"
   ]
  },
  {
   "cell_type": "code",
   "execution_count": 4,
   "metadata": {},
   "outputs": [
    {
     "name": "stdout",
     "output_type": "stream",
     "text": [
      "Have you experienced this before?\n",
      "To be honest, I don’t have the answers.\n",
      "Same failure, yet different responses.\n",
      "Who is right and who is wrong?\n",
      "Neither.\n",
      "Perhaps all those years of perseverance finally paid off.\n",
      "It must come from within you.\n",
      "Gnaw away at your problems until you solve them or find a solution.\n",
      "Where are you settling in your life right now?\n",
      "Could you be you playing for bigger stakes than you are?\n",
      "Success is a fickle and long game with highs and lows.\n",
      "So become intentional on what you want out of life.\n",
      "Commit to it.\n",
      "Nurture your dreams.\n",
      "Don’t leave your dreams to chance.\n"
     ]
    }
   ],
   "source": [
    "threshold = 0.3\n",
    "## write your code here\n",
    "\n",
    "transformer = TfidfTransformer()\n",
    "tfidf = transformer.fit_transform(X)\n",
    "print\n",
    "\n",
    "print(X.toarray())\n",
    " "
   ]
  }
 ],
 "metadata": {
  "kernelspec": {
   "display_name": "Python 3",
   "language": "python",
   "name": "python3"
  },
  "language_info": {
   "codemirror_mode": {
    "name": "ipython",
    "version": 3
   },
   "file_extension": ".py",
   "mimetype": "text/x-python",
   "name": "python",
   "nbconvert_exporter": "python",
   "pygments_lexer": "ipython3",
   "version": "3.7.7"
  }
 },
 "nbformat": 4,
 "nbformat_minor": 2
}
